{
 "cells": [
  {
   "cell_type": "code",
   "execution_count": 41,
   "metadata": {},
   "outputs": [],
   "source": [
    "import pandas as pd\n",
    "import numpy as np\n",
    "import plotly.express as px\n",
    "import matplotlib.pyplot as plt\n",
    "import plotly.graph_objects as go\n",
    "import datetime "
   ]
  },
  {
   "cell_type": "code",
   "execution_count": 73,
   "metadata": {},
   "outputs": [
    {
     "name": "stdout",
     "output_type": "stream",
     "text": [
      "-24.12538620155039\n",
      "-9.357911228070215\n",
      "-2.2666643881856174\n",
      "-15.248365111111113\n",
      "22.79499525821599\n",
      "3.9536719583333166\n",
      "10.814223181818186\n",
      "10.363893249999975\n",
      "53.88823467948718\n",
      "-0.09090925675677397\n",
      "-6.035690791666688\n",
      "19.737994404761913\n",
      "-20.49749006944445\n",
      "13.82015216666668\n",
      "-11.558890952380949\n",
      "-2.360074999999995\n",
      "-7.736656797385649\n",
      "-16.396480068027188\n",
      "-18.572906000000003\n",
      "4.83395463203464\n",
      "24.1602304964539\n",
      "22.912406601307183\n",
      "3.5710953488372255\n",
      "6.5468792361111525\n",
      "-18.363249302325606\n",
      "-7.547587549019582\n",
      "-14.024835934959334\n",
      "-33.622864252873576\n",
      "5.23188795833331\n",
      "-24.32443716312056\n",
      "12.817368169934625\n",
      "6.174627399267436\n",
      "27.830647523809535\n",
      "-8.571558030303045\n",
      "-10.590602931034475\n",
      "-15.18849724637679\n",
      "-16.29121900900897\n",
      "-8.04620064102562\n",
      "12.928655402298837\n",
      "3.032378826666644\n",
      "10.51643179012347\n",
      "-21.793166666666682\n",
      "-21.793166666666682\n",
      "-24.295127849462357\n",
      "-0.21082498666660854\n",
      "17.7607505820106\n",
      "6.253422483660138\n",
      "10.695696111111118\n",
      "5.10261684523811\n",
      "-0.5628317921147428\n",
      "-25.061712777777775\n"
     ]
    }
   ],
   "source": [
    "election_data = pd.read_csv(\"president_general_polls_2016.csv\")\n",
    "election_data = election_data.drop(columns=[\"cycle\", \"branch\", \"type\", \"matchup\", \"grade\", \"pollster\", \"url\", \"createddate\", \"timestamp\", \"question_id\", \"samplesize\", \"population\", \"poll_wt\", \"rawpoll_clinton\", \"rawpoll_trump\", \"rawpoll_johnson\", \"rawpoll_mcmullin\", \"multiversions\", \"forecastdate\", \"enddate\"])\n",
    "election_data['adjpoll_johnson'].max()\n",
    "al = election_data.loc[election_data['state']=='Alabama']\n",
    "al_t = al['adjpoll_trump'].mean()\n",
    "al_c = al['adjpoll_clinton'].mean()\n",
    "al = al_c - al_t\n",
    "print(al)\n",
    "\n",
    "ak = election_data.loc[election_data['state']=='Alaska']\n",
    "ak_t = ak['adjpoll_trump'].mean()\n",
    "ak_c = ak['adjpoll_clinton'].mean()\n",
    "ak = ak_c - ak_t\n",
    "print(ak)\n",
    "\n",
    "az = election_data.loc[election_data['state']=='Arizona']\n",
    "az_t = az['adjpoll_trump'].mean()\n",
    "az_c = az['adjpoll_clinton'].mean()\n",
    "az = az_c - az_t\n",
    "print(az)\n",
    "\n",
    "ar = election_data.loc[election_data['state']=='Arkansas']\n",
    "ar_t = ar['adjpoll_trump'].mean()\n",
    "ar_c = ar['adjpoll_clinton'].mean()\n",
    "ar = ar_c - ar_t\n",
    "print(ar)\n",
    "\n",
    "ca = election_data.loc[election_data['state']=='California']\n",
    "ca_t = ca['adjpoll_trump'].mean()\n",
    "ca_c = ca['adjpoll_clinton'].mean()\n",
    "ca = ca_c - ca_t\n",
    "print(ca)\n",
    "\n",
    "co = election_data.loc[election_data['state']=='Colorado']\n",
    "co_t = co['adjpoll_trump'].mean()\n",
    "co_c = co['adjpoll_clinton'].mean()\n",
    "co = co_c - co_t\n",
    "print(co)\n",
    "\n",
    "ct = election_data.loc[election_data['state']=='Connecticut']\n",
    "ct_t = ct['adjpoll_trump'].mean()\n",
    "ct_c = ct['adjpoll_clinton'].mean()\n",
    "ct = ct_c - ct_t\n",
    "print(ct)\n",
    "\n",
    "de = election_data.loc[election_data['state']=='Delaware']\n",
    "de_t = de['adjpoll_trump'].mean()\n",
    "de_c = de['adjpoll_clinton'].mean()\n",
    "de = de_c - de_t\n",
    "print(de)\n",
    "\n",
    "dc = election_data.loc[election_data['state']=='District of Columbia']\n",
    "dc_t = dc['adjpoll_trump'].mean()\n",
    "dc_c = dc['adjpoll_clinton'].mean()\n",
    "dc = dc_c - dc_t\n",
    "print(dc)\n",
    "\n",
    "fl = election_data.loc[election_data['state']=='Florida']\n",
    "fl_t = fl['adjpoll_trump'].mean()\n",
    "fl_c = fl['adjpoll_clinton'].mean()\n",
    "fl = fl_c - fl_t\n",
    "print(fl)\n",
    "\n",
    "ga = election_data.loc[election_data['state']=='Georgia']\n",
    "ga_t = ga['adjpoll_trump'].mean()\n",
    "ga_c = ga['adjpoll_clinton'].mean()\n",
    "ga = ga_c - ga_t\n",
    "print(ga)\n",
    "\n",
    "hi = election_data.loc[election_data['state']=='Hawaii']\n",
    "hi_t = hi['adjpoll_trump'].mean()\n",
    "hi_c = hi['adjpoll_clinton'].mean()\n",
    "hi = hi_c - hi_t\n",
    "print(hi)\n",
    "\n",
    "ida = election_data.loc[election_data['state']=='Idaho']\n",
    "ida_t = ida['adjpoll_trump'].mean()\n",
    "ida_c = ida['adjpoll_clinton'].mean()\n",
    "ida = ida_c - ida_t\n",
    "print(ida)\n",
    "\n",
    "il = election_data.loc[election_data['state']=='Illinois']\n",
    "il_t = il['adjpoll_trump'].mean()\n",
    "il_c = il['adjpoll_clinton'].mean()\n",
    "il = il_c - il_t\n",
    "print(il)\n",
    "\n",
    "ind = election_data.loc[election_data['state']=='Indiana']\n",
    "ind_t = ind['adjpoll_trump'].mean()\n",
    "ind_c = ind['adjpoll_clinton'].mean()\n",
    "ind = ind_c - ind_t\n",
    "print(ind)\n",
    "\n",
    "ia = election_data.loc[election_data['state']=='Iowa']\n",
    "ia_t = ia['adjpoll_trump'].mean()\n",
    "ia_c = ia['adjpoll_clinton'].mean()\n",
    "ia = ia_c - ia_t\n",
    "print(ia)\n",
    "\n",
    "ks = election_data.loc[election_data['state']=='Kansas']\n",
    "ks_t = ks['adjpoll_trump'].mean()\n",
    "ks_c = ks['adjpoll_clinton'].mean()\n",
    "ks = ks_c - ks_t\n",
    "print(ks)\n",
    "\n",
    "ky = election_data.loc[election_data['state']=='Kentucky']\n",
    "ky_t = ky['adjpoll_trump'].mean()\n",
    "ky_c = ky['adjpoll_clinton'].mean()\n",
    "ky = ky_c - ky_t\n",
    "print(ky)\n",
    "\n",
    "la = election_data.loc[election_data['state']=='Louisiana']\n",
    "la_t = la['adjpoll_trump'].mean()\n",
    "la_c = la['adjpoll_clinton'].mean()\n",
    "la = la_c - la_t\n",
    "print(la)\n",
    "\n",
    "me_1 = election_data.loc[election_data['state']=='Maine CD-1']\n",
    "me_2 = election_data.loc[election_data['state']=='Maine CD-2']\n",
    "me_t1 = me_1['adjpoll_trump'].mean()\n",
    "me_c1 = me_1['adjpoll_clinton'].mean()\n",
    "me_t2 = me_2['adjpoll_trump'].mean()\n",
    "me_c2 = me_2['adjpoll_clinton'].mean()\n",
    "me_t = (me_t1 + me_t2) / 2\n",
    "me_c = (me_c1 + me_c2) / 2\n",
    "me = me_c - me_t\n",
    "print(me)\n",
    "\n",
    "md = election_data.loc[election_data['state']=='Maryland']\n",
    "md_t = md['adjpoll_trump'].mean()\n",
    "md_c = md['adjpoll_clinton'].mean()\n",
    "md = md_c - md_t\n",
    "print(md)\n",
    "\n",
    "ma = election_data.loc[election_data['state']=='Massachusetts']\n",
    "ma_t = ma['adjpoll_trump'].mean()\n",
    "ma_c = ma['adjpoll_clinton'].mean()\n",
    "ma = ma_c - ma_t\n",
    "print(ma)\n",
    "\n",
    "mi = election_data.loc[election_data['state']=='Michigan']\n",
    "mi_t = mi['adjpoll_trump'].mean()\n",
    "mi_c = mi['adjpoll_clinton'].mean()\n",
    "mi = mi_c - mi_t\n",
    "print(mi)\n",
    "\n",
    "mn = election_data.loc[election_data['state']=='Minnesota']\n",
    "mn_t = mn['adjpoll_trump'].mean()\n",
    "mn_c = mn['adjpoll_clinton'].mean()\n",
    "mn = mn_c - mn_t\n",
    "print(mn)\n",
    "\n",
    "ms = election_data.loc[election_data['state']=='Mississippi']\n",
    "ms_t = ms['adjpoll_trump'].mean()\n",
    "ms_c = ms['adjpoll_clinton'].mean()\n",
    "ms = ms_c - ms_t\n",
    "print(ms)\n",
    "\n",
    "mo = election_data.loc[election_data['state']=='Missouri']\n",
    "mo_t = mo['adjpoll_trump'].mean()\n",
    "mo_c = mo['adjpoll_clinton'].mean()\n",
    "mo = mo_c - mo_t\n",
    "print(mo)\n",
    "\n",
    "mt = election_data.loc[election_data['state']=='Montana']\n",
    "mt_t = mt['adjpoll_trump'].mean()\n",
    "mt_c = mt['adjpoll_clinton'].mean()\n",
    "mt = mt_c - mt_t\n",
    "print(mt)\n",
    "\n",
    "wy = election_data.loc[election_data['state']=='Wyoming']\n",
    "wy_t = wy['adjpoll_trump'].mean()\n",
    "wy_c = wy['adjpoll_clinton'].mean()\n",
    "wy = wy_c - wy_t\n",
    "print(wy)\n",
    "\n",
    "wi = election_data.loc[election_data['state']=='Wisconsin']\n",
    "wi_t = wi['adjpoll_trump'].mean()\n",
    "wi_c = wi['adjpoll_clinton'].mean()\n",
    "wi = wi_c - wi_t\n",
    "print(wi)\n",
    "\n",
    "wv = election_data.loc[election_data['state']=='West Virginia']\n",
    "wv_t = wv['adjpoll_trump'].mean()\n",
    "wv_c = wv['adjpoll_clinton'].mean()\n",
    "wv = wv_c - wv_t\n",
    "print(wv)\n",
    "\n",
    "wa = election_data.loc[election_data['state']=='Washington']\n",
    "wa_t = wa['adjpoll_trump'].mean()\n",
    "wa_c = wa['adjpoll_clinton'].mean()\n",
    "wa = wa_c - wa_t\n",
    "print(wa)\n",
    "\n",
    "va = election_data.loc[election_data['state']=='Virginia']\n",
    "va_t = va['adjpoll_trump'].mean()\n",
    "va_c = va['adjpoll_clinton'].mean()\n",
    "va = va_c - va_t\n",
    "print(va)\n",
    "\n",
    "vt = election_data.loc[election_data['state']=='Vermont']\n",
    "vt_t = vt['adjpoll_trump'].mean()\n",
    "vt_c = vt['adjpoll_clinton'].mean()\n",
    "vt = vt_c - vt_t\n",
    "print(vt)\n",
    "\n",
    "ut = election_data.loc[election_data['state']=='Utah']\n",
    "ut_t = ut['adjpoll_trump'].mean()\n",
    "ut_c = ut['adjpoll_clinton'].mean()\n",
    "ut = ut_c - ut_t\n",
    "print(ut)\n",
    "\n",
    "tx = election_data.loc[election_data['state']=='Texas']\n",
    "tx_t = tx['adjpoll_trump'].mean()\n",
    "tx_c = tx['adjpoll_clinton'].mean()\n",
    "tx = tx_c - tx_t\n",
    "print(tx)\n",
    "\n",
    "tn = election_data.loc[election_data['state']=='Tennessee']\n",
    "tn_t = tn['adjpoll_trump'].mean()\n",
    "tn_c = tn['adjpoll_clinton'].mean()\n",
    "tn = tn_c - tn_t\n",
    "print(tn)\n",
    "\n",
    "sd = election_data.loc[election_data['state']=='South Dakota']\n",
    "sd_t = sd['adjpoll_trump'].mean()\n",
    "sd_c = sd['adjpoll_clinton'].mean()\n",
    "sd = sd_c - sd_t\n",
    "print(sd)\n",
    "\n",
    "sc = election_data.loc[election_data['state']=='South Carolina']\n",
    "sc_t = sc['adjpoll_trump'].mean()\n",
    "sc_c = sc['adjpoll_clinton'].mean()\n",
    "sc = sc_c - sc_t\n",
    "print(sc)\n",
    "\n",
    "ri = election_data.loc[election_data['state']=='Rhode Island']\n",
    "ri_t = ri['adjpoll_trump'].mean()\n",
    "ri_c = ri['adjpoll_clinton'].mean()\n",
    "ri = ri_c - ri_t\n",
    "print(ri)\n",
    "\n",
    "pa = election_data.loc[election_data['state']=='Pennsylvania']\n",
    "pa_t = pa['adjpoll_trump'].mean()\n",
    "pa_c = pa['adjpoll_clinton'].mean()\n",
    "pa = pa_c - pa_t\n",
    "print(pa)\n",
    "\n",
    "ore = election_data.loc[election_data['state']=='Oregon']\n",
    "ore_t = ore['adjpoll_trump'].mean()\n",
    "ore_c = ore['adjpoll_clinton'].mean()\n",
    "ore = ore_c - ore_t\n",
    "print(ore)\n",
    "\n",
    "ok = election_data.loc[election_data['state']=='Oklahoma']\n",
    "ok_t = ok['adjpoll_trump'].mean()\n",
    "ok_c = ok['adjpoll_clinton'].mean()\n",
    "ok = ok_c - ok_t\n",
    "print(ok)\n",
    "\n",
    "oh = election_data.loc[election_data['state']=='Oklahoma']\n",
    "oh_t = oh['adjpoll_trump'].mean()\n",
    "oh_c = oh['adjpoll_clinton'].mean()\n",
    "oh = oh_c - oh_t\n",
    "print(oh)\n",
    "\n",
    "nd = election_data.loc[election_data['state']=='North Dakota']\n",
    "nd_t = nd['adjpoll_trump'].mean()\n",
    "nd_c = nd['adjpoll_clinton'].mean()\n",
    "nd = nd_c - nd_t\n",
    "print(nd)\n",
    "\n",
    "nc = election_data.loc[election_data['state']=='North Carolina']\n",
    "nc_t = nc['adjpoll_trump'].mean()\n",
    "nc_c = nc['adjpoll_clinton'].mean()\n",
    "nc = nc_c - nc_t\n",
    "print(nc)\n",
    "\n",
    "ny = election_data.loc[election_data['state']=='New York']\n",
    "ny_t = ny['adjpoll_trump'].mean()\n",
    "ny_c = ny['adjpoll_clinton'].mean()\n",
    "ny = ny_c - ny_t\n",
    "print(ny)\n",
    "\n",
    "nm = election_data.loc[election_data['state']=='New Mexico']\n",
    "nm_t = nm['adjpoll_trump'].mean()\n",
    "nm_c = nm['adjpoll_clinton'].mean()\n",
    "nm = nm_c - nm_t\n",
    "print(nm)\n",
    "\n",
    "nj = election_data.loc[election_data['state']=='New Jersey']\n",
    "nj_t = nj['adjpoll_trump'].mean()\n",
    "nj_c = nj['adjpoll_clinton'].mean()\n",
    "nj = nj_c - nj_t\n",
    "print(nj)\n",
    "\n",
    "nh = election_data.loc[election_data['state']=='New Hampshire']\n",
    "nh_t = nh['adjpoll_trump'].mean()\n",
    "nh_c = nh['adjpoll_clinton'].mean()\n",
    "nh = nh_c - nh_t\n",
    "print(nh)\n",
    "\n",
    "nv = election_data.loc[election_data['state']=='Nevada']\n",
    "nv_t = nv['adjpoll_trump'].mean()\n",
    "nv_c = nv['adjpoll_clinton'].mean()\n",
    "nv = nv_c - nv_t\n",
    "print(nv)\n",
    "\n",
    "ne_1 = election_data.loc[election_data['state']=='Nebraska CD-1']\n",
    "ne_2 = election_data.loc[election_data['state']=='Nebraska CD-2']\n",
    "ne_3 = election_data.loc[election_data['state']=='Nebraska CD-3']\n",
    "ne_t1 = ne_1['adjpoll_trump'].mean()\n",
    "ne_c1 = ne_1['adjpoll_clinton'].mean()\n",
    "ne_t2 = ne_2['adjpoll_trump'].mean()\n",
    "ne_c2 = ne_2['adjpoll_clinton'].mean()\n",
    "ne_t3 = ne_3['adjpoll_trump'].mean()\n",
    "ne_c3 = ne_3['adjpoll_clinton'].mean()\n",
    "ne_t = (ne_t1 + ne_t2 + ne_t3) / 3\n",
    "ne_c = (ne_c1 + ne_c2 + ne_c3) / 3\n",
    "ne = ne_c - ne_t\n",
    "print(ne)\n"
   ]
  },
  {
   "cell_type": "code",
   "execution_count": 58,
   "metadata": {
    "scrolled": true
   },
   "outputs": [
    {
     "name": "stdout",
     "output_type": "stream",
     "text": [
      "['U.S.' 'New Mexico' 'Virginia' 'Iowa' 'Wisconsin' 'North Carolina'\n",
      " 'Georgia' 'Florida' 'Oregon' 'Ohio' 'South Carolina' 'New York'\n",
      " 'Michigan' 'Pennsylvania' 'Missouri' 'New Hampshire' 'Arizona' 'Nevada'\n",
      " 'Colorado' 'California' 'Washington' 'Texas' 'Utah' 'Illinois' 'Indiana'\n",
      " 'Tennessee' 'Connecticut' 'Massachusetts' 'New Jersey' 'Kansas'\n",
      " 'Kentucky' 'Minnesota' 'Oklahoma' 'Maryland' 'Alabama' 'Nebraska'\n",
      " 'Louisiana' 'Maine' 'Arkansas' 'Alaska' 'Vermont' 'Idaho' 'Mississippi'\n",
      " 'West Virginia' 'South Dakota' 'Montana' 'Hawaii' 'Maine CD-1'\n",
      " 'Maine CD-2' 'Rhode Island' 'Nebraska CD-3' 'Nebraska CD-1' 'Delaware'\n",
      " 'North Dakota' 'District of Columbia' 'Nebraska CD-2' 'Wyoming']\n"
     ]
    }
   ],
   "source": [
    "states = election_data[\"state\"].unique()\n",
    "a = {}\n",
    "count = 0\n",
    "for s in states:\n",
    "    a[\"group\" + str(s)] = election_data.loc[election_data[\"state\"]==s]\n",
    "\n",
    "pd.DataFrame(a[\"groupVirginia\"])\n",
    "\n",
    "print(states)"
   ]
  },
  {
   "cell_type": "code",
   "execution_count": 84,
   "metadata": {},
   "outputs": [
    {
     "data": {
      "application/vnd.plotly.v1+json": {
       "config": {
        "plotlyServerURL": "https://plot.ly"
       },
       "data": [
        {
         "coloraxis": "coloraxis",
         "geo": "geo",
         "hovertemplate": "locations=%{location}<br>color=%{z}<extra></extra>",
         "locationmode": "USA-states",
         "locations": [
          "AL",
          "AK",
          "AZ",
          "AR",
          "CA",
          "CO",
          "CT",
          "DE",
          "FL",
          "GA",
          "HI",
          "ID",
          "IL",
          "IN",
          "IA",
          "KS",
          "KY",
          "LA",
          "ME",
          "MD",
          "MA",
          "MI",
          "MN",
          "MS",
          "MO",
          "MT",
          "NE",
          "NV",
          "NH",
          "NJ",
          "NM",
          "NY",
          "NC",
          "ND",
          "OH",
          "OK",
          "OR",
          "PA",
          "RI",
          "SC",
          "SD",
          "TN",
          "TX",
          "UT",
          "VT",
          "VA",
          "WA",
          "WV",
          "WI",
          "WY"
         ],
         "name": "",
         "type": "choropleth",
         "z": [
          -24.12538620155039,
          -9.357911228070215,
          -2.2666643881856174,
          -15.248365111111113,
          22.79499525821599,
          3.9536719583333166,
          10.814223181818186,
          10.363893249999975,
          -0.09090925675677397,
          -6.035690791666688,
          19.737994404761913,
          -20.49749006944445,
          13.82015216666668,
          -11.558890952380949,
          -2.360074999999995,
          -7.736656797385649,
          -16.396480068027188,
          -18.572906000000003,
          4.83395463203464,
          24.1602304964539,
          22.912406601307183,
          3.5710953488372255,
          6.5468792361111525,
          -18.363249302325606,
          -7.547587549019582,
          -14.024835934959334,
          -25.061712777777775,
          -0.5628317921147428,
          5.10261684523811,
          10.695696111111118,
          6.253422483660138,
          17.7607505820106,
          -0.21082498666660854,
          -24.295127849462357,
          -21.793166666666682,
          -21.793166666666682,
          10.51643179012347,
          3.032378826666644,
          12.928655402298837,
          -8.04620064102562,
          -16.29121900900897,
          -15.18849724637679,
          -10.590602931034475,
          -8.571558030303045,
          27.830647523809535,
          6.174627399267436,
          12.817368169934625,
          -24.32443716312056,
          5.23188795833331,
          -33.622864252873576
         ]
        }
       ],
       "layout": {
        "coloraxis": {
         "colorbar": {
          "title": {
           "text": "color"
          }
         },
         "colorscale": [
          [
           0,
           "rgb(255,0,0)"
          ],
          [
           1,
           "rgb(0,0,255)"
          ]
         ]
        },
        "geo": {
         "center": {},
         "domain": {
          "x": [
           0,
           1
          ],
          "y": [
           0,
           1
          ]
         },
         "scope": "usa"
        },
        "legend": {
         "tracegroupgap": 0
        },
        "margin": {
         "t": 60
        },
        "template": {
         "data": {
          "bar": [
           {
            "error_x": {
             "color": "#2a3f5f"
            },
            "error_y": {
             "color": "#2a3f5f"
            },
            "marker": {
             "line": {
              "color": "#E5ECF6",
              "width": 0.5
             }
            },
            "type": "bar"
           }
          ],
          "barpolar": [
           {
            "marker": {
             "line": {
              "color": "#E5ECF6",
              "width": 0.5
             }
            },
            "type": "barpolar"
           }
          ],
          "carpet": [
           {
            "aaxis": {
             "endlinecolor": "#2a3f5f",
             "gridcolor": "white",
             "linecolor": "white",
             "minorgridcolor": "white",
             "startlinecolor": "#2a3f5f"
            },
            "baxis": {
             "endlinecolor": "#2a3f5f",
             "gridcolor": "white",
             "linecolor": "white",
             "minorgridcolor": "white",
             "startlinecolor": "#2a3f5f"
            },
            "type": "carpet"
           }
          ],
          "choropleth": [
           {
            "colorbar": {
             "outlinewidth": 0,
             "ticks": ""
            },
            "type": "choropleth"
           }
          ],
          "contour": [
           {
            "colorbar": {
             "outlinewidth": 0,
             "ticks": ""
            },
            "colorscale": [
             [
              0,
              "#0d0887"
             ],
             [
              0.1111111111111111,
              "#46039f"
             ],
             [
              0.2222222222222222,
              "#7201a8"
             ],
             [
              0.3333333333333333,
              "#9c179e"
             ],
             [
              0.4444444444444444,
              "#bd3786"
             ],
             [
              0.5555555555555556,
              "#d8576b"
             ],
             [
              0.6666666666666666,
              "#ed7953"
             ],
             [
              0.7777777777777778,
              "#fb9f3a"
             ],
             [
              0.8888888888888888,
              "#fdca26"
             ],
             [
              1,
              "#f0f921"
             ]
            ],
            "type": "contour"
           }
          ],
          "contourcarpet": [
           {
            "colorbar": {
             "outlinewidth": 0,
             "ticks": ""
            },
            "type": "contourcarpet"
           }
          ],
          "heatmap": [
           {
            "colorbar": {
             "outlinewidth": 0,
             "ticks": ""
            },
            "colorscale": [
             [
              0,
              "#0d0887"
             ],
             [
              0.1111111111111111,
              "#46039f"
             ],
             [
              0.2222222222222222,
              "#7201a8"
             ],
             [
              0.3333333333333333,
              "#9c179e"
             ],
             [
              0.4444444444444444,
              "#bd3786"
             ],
             [
              0.5555555555555556,
              "#d8576b"
             ],
             [
              0.6666666666666666,
              "#ed7953"
             ],
             [
              0.7777777777777778,
              "#fb9f3a"
             ],
             [
              0.8888888888888888,
              "#fdca26"
             ],
             [
              1,
              "#f0f921"
             ]
            ],
            "type": "heatmap"
           }
          ],
          "heatmapgl": [
           {
            "colorbar": {
             "outlinewidth": 0,
             "ticks": ""
            },
            "colorscale": [
             [
              0,
              "#0d0887"
             ],
             [
              0.1111111111111111,
              "#46039f"
             ],
             [
              0.2222222222222222,
              "#7201a8"
             ],
             [
              0.3333333333333333,
              "#9c179e"
             ],
             [
              0.4444444444444444,
              "#bd3786"
             ],
             [
              0.5555555555555556,
              "#d8576b"
             ],
             [
              0.6666666666666666,
              "#ed7953"
             ],
             [
              0.7777777777777778,
              "#fb9f3a"
             ],
             [
              0.8888888888888888,
              "#fdca26"
             ],
             [
              1,
              "#f0f921"
             ]
            ],
            "type": "heatmapgl"
           }
          ],
          "histogram": [
           {
            "marker": {
             "colorbar": {
              "outlinewidth": 0,
              "ticks": ""
             }
            },
            "type": "histogram"
           }
          ],
          "histogram2d": [
           {
            "colorbar": {
             "outlinewidth": 0,
             "ticks": ""
            },
            "colorscale": [
             [
              0,
              "#0d0887"
             ],
             [
              0.1111111111111111,
              "#46039f"
             ],
             [
              0.2222222222222222,
              "#7201a8"
             ],
             [
              0.3333333333333333,
              "#9c179e"
             ],
             [
              0.4444444444444444,
              "#bd3786"
             ],
             [
              0.5555555555555556,
              "#d8576b"
             ],
             [
              0.6666666666666666,
              "#ed7953"
             ],
             [
              0.7777777777777778,
              "#fb9f3a"
             ],
             [
              0.8888888888888888,
              "#fdca26"
             ],
             [
              1,
              "#f0f921"
             ]
            ],
            "type": "histogram2d"
           }
          ],
          "histogram2dcontour": [
           {
            "colorbar": {
             "outlinewidth": 0,
             "ticks": ""
            },
            "colorscale": [
             [
              0,
              "#0d0887"
             ],
             [
              0.1111111111111111,
              "#46039f"
             ],
             [
              0.2222222222222222,
              "#7201a8"
             ],
             [
              0.3333333333333333,
              "#9c179e"
             ],
             [
              0.4444444444444444,
              "#bd3786"
             ],
             [
              0.5555555555555556,
              "#d8576b"
             ],
             [
              0.6666666666666666,
              "#ed7953"
             ],
             [
              0.7777777777777778,
              "#fb9f3a"
             ],
             [
              0.8888888888888888,
              "#fdca26"
             ],
             [
              1,
              "#f0f921"
             ]
            ],
            "type": "histogram2dcontour"
           }
          ],
          "mesh3d": [
           {
            "colorbar": {
             "outlinewidth": 0,
             "ticks": ""
            },
            "type": "mesh3d"
           }
          ],
          "parcoords": [
           {
            "line": {
             "colorbar": {
              "outlinewidth": 0,
              "ticks": ""
             }
            },
            "type": "parcoords"
           }
          ],
          "pie": [
           {
            "automargin": true,
            "type": "pie"
           }
          ],
          "scatter": [
           {
            "marker": {
             "colorbar": {
              "outlinewidth": 0,
              "ticks": ""
             }
            },
            "type": "scatter"
           }
          ],
          "scatter3d": [
           {
            "line": {
             "colorbar": {
              "outlinewidth": 0,
              "ticks": ""
             }
            },
            "marker": {
             "colorbar": {
              "outlinewidth": 0,
              "ticks": ""
             }
            },
            "type": "scatter3d"
           }
          ],
          "scattercarpet": [
           {
            "marker": {
             "colorbar": {
              "outlinewidth": 0,
              "ticks": ""
             }
            },
            "type": "scattercarpet"
           }
          ],
          "scattergeo": [
           {
            "marker": {
             "colorbar": {
              "outlinewidth": 0,
              "ticks": ""
             }
            },
            "type": "scattergeo"
           }
          ],
          "scattergl": [
           {
            "marker": {
             "colorbar": {
              "outlinewidth": 0,
              "ticks": ""
             }
            },
            "type": "scattergl"
           }
          ],
          "scattermapbox": [
           {
            "marker": {
             "colorbar": {
              "outlinewidth": 0,
              "ticks": ""
             }
            },
            "type": "scattermapbox"
           }
          ],
          "scatterpolar": [
           {
            "marker": {
             "colorbar": {
              "outlinewidth": 0,
              "ticks": ""
             }
            },
            "type": "scatterpolar"
           }
          ],
          "scatterpolargl": [
           {
            "marker": {
             "colorbar": {
              "outlinewidth": 0,
              "ticks": ""
             }
            },
            "type": "scatterpolargl"
           }
          ],
          "scatterternary": [
           {
            "marker": {
             "colorbar": {
              "outlinewidth": 0,
              "ticks": ""
             }
            },
            "type": "scatterternary"
           }
          ],
          "surface": [
           {
            "colorbar": {
             "outlinewidth": 0,
             "ticks": ""
            },
            "colorscale": [
             [
              0,
              "#0d0887"
             ],
             [
              0.1111111111111111,
              "#46039f"
             ],
             [
              0.2222222222222222,
              "#7201a8"
             ],
             [
              0.3333333333333333,
              "#9c179e"
             ],
             [
              0.4444444444444444,
              "#bd3786"
             ],
             [
              0.5555555555555556,
              "#d8576b"
             ],
             [
              0.6666666666666666,
              "#ed7953"
             ],
             [
              0.7777777777777778,
              "#fb9f3a"
             ],
             [
              0.8888888888888888,
              "#fdca26"
             ],
             [
              1,
              "#f0f921"
             ]
            ],
            "type": "surface"
           }
          ],
          "table": [
           {
            "cells": {
             "fill": {
              "color": "#EBF0F8"
             },
             "line": {
              "color": "white"
             }
            },
            "header": {
             "fill": {
              "color": "#C8D4E3"
             },
             "line": {
              "color": "white"
             }
            },
            "type": "table"
           }
          ]
         },
         "layout": {
          "annotationdefaults": {
           "arrowcolor": "#2a3f5f",
           "arrowhead": 0,
           "arrowwidth": 1
          },
          "coloraxis": {
           "colorbar": {
            "outlinewidth": 0,
            "ticks": ""
           }
          },
          "colorscale": {
           "diverging": [
            [
             0,
             "#8e0152"
            ],
            [
             0.1,
             "#c51b7d"
            ],
            [
             0.2,
             "#de77ae"
            ],
            [
             0.3,
             "#f1b6da"
            ],
            [
             0.4,
             "#fde0ef"
            ],
            [
             0.5,
             "#f7f7f7"
            ],
            [
             0.6,
             "#e6f5d0"
            ],
            [
             0.7,
             "#b8e186"
            ],
            [
             0.8,
             "#7fbc41"
            ],
            [
             0.9,
             "#4d9221"
            ],
            [
             1,
             "#276419"
            ]
           ],
           "sequential": [
            [
             0,
             "#0d0887"
            ],
            [
             0.1111111111111111,
             "#46039f"
            ],
            [
             0.2222222222222222,
             "#7201a8"
            ],
            [
             0.3333333333333333,
             "#9c179e"
            ],
            [
             0.4444444444444444,
             "#bd3786"
            ],
            [
             0.5555555555555556,
             "#d8576b"
            ],
            [
             0.6666666666666666,
             "#ed7953"
            ],
            [
             0.7777777777777778,
             "#fb9f3a"
            ],
            [
             0.8888888888888888,
             "#fdca26"
            ],
            [
             1,
             "#f0f921"
            ]
           ],
           "sequentialminus": [
            [
             0,
             "#0d0887"
            ],
            [
             0.1111111111111111,
             "#46039f"
            ],
            [
             0.2222222222222222,
             "#7201a8"
            ],
            [
             0.3333333333333333,
             "#9c179e"
            ],
            [
             0.4444444444444444,
             "#bd3786"
            ],
            [
             0.5555555555555556,
             "#d8576b"
            ],
            [
             0.6666666666666666,
             "#ed7953"
            ],
            [
             0.7777777777777778,
             "#fb9f3a"
            ],
            [
             0.8888888888888888,
             "#fdca26"
            ],
            [
             1,
             "#f0f921"
            ]
           ]
          },
          "colorway": [
           "#636efa",
           "#EF553B",
           "#00cc96",
           "#ab63fa",
           "#FFA15A",
           "#19d3f3",
           "#FF6692",
           "#B6E880",
           "#FF97FF",
           "#FECB52"
          ],
          "font": {
           "color": "#2a3f5f"
          },
          "geo": {
           "bgcolor": "white",
           "lakecolor": "white",
           "landcolor": "#E5ECF6",
           "showlakes": true,
           "showland": true,
           "subunitcolor": "white"
          },
          "hoverlabel": {
           "align": "left"
          },
          "hovermode": "closest",
          "mapbox": {
           "style": "light"
          },
          "paper_bgcolor": "white",
          "plot_bgcolor": "#E5ECF6",
          "polar": {
           "angularaxis": {
            "gridcolor": "white",
            "linecolor": "white",
            "ticks": ""
           },
           "bgcolor": "#E5ECF6",
           "radialaxis": {
            "gridcolor": "white",
            "linecolor": "white",
            "ticks": ""
           }
          },
          "scene": {
           "xaxis": {
            "backgroundcolor": "#E5ECF6",
            "gridcolor": "white",
            "gridwidth": 2,
            "linecolor": "white",
            "showbackground": true,
            "ticks": "",
            "zerolinecolor": "white"
           },
           "yaxis": {
            "backgroundcolor": "#E5ECF6",
            "gridcolor": "white",
            "gridwidth": 2,
            "linecolor": "white",
            "showbackground": true,
            "ticks": "",
            "zerolinecolor": "white"
           },
           "zaxis": {
            "backgroundcolor": "#E5ECF6",
            "gridcolor": "white",
            "gridwidth": 2,
            "linecolor": "white",
            "showbackground": true,
            "ticks": "",
            "zerolinecolor": "white"
           }
          },
          "shapedefaults": {
           "line": {
            "color": "#2a3f5f"
           }
          },
          "ternary": {
           "aaxis": {
            "gridcolor": "white",
            "linecolor": "white",
            "ticks": ""
           },
           "baxis": {
            "gridcolor": "white",
            "linecolor": "white",
            "ticks": ""
           },
           "bgcolor": "#E5ECF6",
           "caxis": {
            "gridcolor": "white",
            "linecolor": "white",
            "ticks": ""
           }
          },
          "title": {
           "x": 0.05
          },
          "xaxis": {
           "automargin": true,
           "gridcolor": "white",
           "linecolor": "white",
           "ticks": "",
           "title": {
            "standoff": 15
           },
           "zerolinecolor": "white",
           "zerolinewidth": 2
          },
          "yaxis": {
           "automargin": true,
           "gridcolor": "white",
           "linecolor": "white",
           "ticks": "",
           "title": {
            "standoff": 15
           },
           "zerolinecolor": "white",
           "zerolinewidth": 2
          }
         }
        }
       }
      },
      "text/html": [
       "<div>\n",
       "        \n",
       "        \n",
       "            <div id=\"d719c458-eda5-4787-840d-d97feb7a1dbe\" class=\"plotly-graph-div\" style=\"height:525px; width:100%;\"></div>\n",
       "            <script type=\"text/javascript\">\n",
       "                require([\"plotly\"], function(Plotly) {\n",
       "                    window.PLOTLYENV=window.PLOTLYENV || {};\n",
       "                    \n",
       "                if (document.getElementById(\"d719c458-eda5-4787-840d-d97feb7a1dbe\")) {\n",
       "                    Plotly.newPlot(\n",
       "                        'd719c458-eda5-4787-840d-d97feb7a1dbe',\n",
       "                        [{\"coloraxis\": \"coloraxis\", \"geo\": \"geo\", \"hovertemplate\": \"locations=%{location}<br>color=%{z}<extra></extra>\", \"locationmode\": \"USA-states\", \"locations\": [\"AL\", \"AK\", \"AZ\", \"AR\", \"CA\", \"CO\", \"CT\", \"DE\", \"FL\", \"GA\", \"HI\", \"ID\", \"IL\", \"IN\", \"IA\", \"KS\", \"KY\", \"LA\", \"ME\", \"MD\", \"MA\", \"MI\", \"MN\", \"MS\", \"MO\", \"MT\", \"NE\", \"NV\", \"NH\", \"NJ\", \"NM\", \"NY\", \"NC\", \"ND\", \"OH\", \"OK\", \"OR\", \"PA\", \"RI\", \"SC\", \"SD\", \"TN\", \"TX\", \"UT\", \"VT\", \"VA\", \"WA\", \"WV\", \"WI\", \"WY\"], \"name\": \"\", \"type\": \"choropleth\", \"z\": [-24.12538620155039, -9.357911228070215, -2.2666643881856174, -15.248365111111113, 22.79499525821599, 3.9536719583333166, 10.814223181818186, 10.363893249999975, -0.09090925675677397, -6.035690791666688, 19.737994404761913, -20.49749006944445, 13.82015216666668, -11.558890952380949, -2.360074999999995, -7.736656797385649, -16.396480068027188, -18.572906000000003, 4.83395463203464, 24.1602304964539, 22.912406601307183, 3.5710953488372255, 6.5468792361111525, -18.363249302325606, -7.547587549019582, -14.024835934959334, -25.061712777777775, -0.5628317921147428, 5.10261684523811, 10.695696111111118, 6.253422483660138, 17.7607505820106, -0.21082498666660854, -24.295127849462357, -21.793166666666682, -21.793166666666682, 10.51643179012347, 3.032378826666644, 12.928655402298837, -8.04620064102562, -16.29121900900897, -15.18849724637679, -10.590602931034475, -8.571558030303045, 27.830647523809535, 6.174627399267436, 12.817368169934625, -24.32443716312056, 5.23188795833331, -33.622864252873576]}],\n",
       "                        {\"coloraxis\": {\"colorbar\": {\"title\": {\"text\": \"color\"}}, \"colorscale\": [[0.0, \"rgb(255,0,0)\"], [1.0, \"rgb(0,0,255)\"]]}, \"geo\": {\"center\": {}, \"domain\": {\"x\": [0.0, 1.0], \"y\": [0.0, 1.0]}, \"scope\": \"usa\"}, \"legend\": {\"tracegroupgap\": 0}, \"margin\": {\"t\": 60}, \"template\": {\"data\": {\"bar\": [{\"error_x\": {\"color\": \"#2a3f5f\"}, \"error_y\": {\"color\": \"#2a3f5f\"}, \"marker\": {\"line\": {\"color\": \"#E5ECF6\", \"width\": 0.5}}, \"type\": \"bar\"}], \"barpolar\": [{\"marker\": {\"line\": {\"color\": \"#E5ECF6\", \"width\": 0.5}}, \"type\": \"barpolar\"}], \"carpet\": [{\"aaxis\": {\"endlinecolor\": \"#2a3f5f\", \"gridcolor\": \"white\", \"linecolor\": \"white\", \"minorgridcolor\": \"white\", \"startlinecolor\": \"#2a3f5f\"}, \"baxis\": {\"endlinecolor\": \"#2a3f5f\", \"gridcolor\": \"white\", \"linecolor\": \"white\", \"minorgridcolor\": \"white\", \"startlinecolor\": \"#2a3f5f\"}, \"type\": \"carpet\"}], \"choropleth\": [{\"colorbar\": {\"outlinewidth\": 0, \"ticks\": \"\"}, \"type\": \"choropleth\"}], \"contour\": [{\"colorbar\": {\"outlinewidth\": 0, \"ticks\": \"\"}, \"colorscale\": [[0.0, \"#0d0887\"], [0.1111111111111111, \"#46039f\"], [0.2222222222222222, \"#7201a8\"], [0.3333333333333333, \"#9c179e\"], [0.4444444444444444, \"#bd3786\"], [0.5555555555555556, \"#d8576b\"], [0.6666666666666666, \"#ed7953\"], [0.7777777777777778, \"#fb9f3a\"], [0.8888888888888888, \"#fdca26\"], [1.0, \"#f0f921\"]], \"type\": \"contour\"}], \"contourcarpet\": [{\"colorbar\": {\"outlinewidth\": 0, \"ticks\": \"\"}, \"type\": \"contourcarpet\"}], \"heatmap\": [{\"colorbar\": {\"outlinewidth\": 0, \"ticks\": \"\"}, \"colorscale\": [[0.0, \"#0d0887\"], [0.1111111111111111, \"#46039f\"], [0.2222222222222222, \"#7201a8\"], [0.3333333333333333, \"#9c179e\"], [0.4444444444444444, \"#bd3786\"], [0.5555555555555556, \"#d8576b\"], [0.6666666666666666, \"#ed7953\"], [0.7777777777777778, \"#fb9f3a\"], [0.8888888888888888, \"#fdca26\"], [1.0, \"#f0f921\"]], \"type\": \"heatmap\"}], \"heatmapgl\": [{\"colorbar\": {\"outlinewidth\": 0, \"ticks\": \"\"}, \"colorscale\": [[0.0, \"#0d0887\"], [0.1111111111111111, \"#46039f\"], [0.2222222222222222, \"#7201a8\"], [0.3333333333333333, \"#9c179e\"], [0.4444444444444444, \"#bd3786\"], [0.5555555555555556, \"#d8576b\"], [0.6666666666666666, \"#ed7953\"], [0.7777777777777778, \"#fb9f3a\"], [0.8888888888888888, \"#fdca26\"], [1.0, \"#f0f921\"]], \"type\": \"heatmapgl\"}], \"histogram\": [{\"marker\": {\"colorbar\": {\"outlinewidth\": 0, \"ticks\": \"\"}}, \"type\": \"histogram\"}], \"histogram2d\": [{\"colorbar\": {\"outlinewidth\": 0, \"ticks\": \"\"}, \"colorscale\": [[0.0, \"#0d0887\"], [0.1111111111111111, \"#46039f\"], [0.2222222222222222, \"#7201a8\"], [0.3333333333333333, \"#9c179e\"], [0.4444444444444444, \"#bd3786\"], [0.5555555555555556, \"#d8576b\"], [0.6666666666666666, \"#ed7953\"], [0.7777777777777778, \"#fb9f3a\"], [0.8888888888888888, \"#fdca26\"], [1.0, \"#f0f921\"]], \"type\": \"histogram2d\"}], \"histogram2dcontour\": [{\"colorbar\": {\"outlinewidth\": 0, \"ticks\": \"\"}, \"colorscale\": [[0.0, \"#0d0887\"], [0.1111111111111111, \"#46039f\"], [0.2222222222222222, \"#7201a8\"], [0.3333333333333333, \"#9c179e\"], [0.4444444444444444, \"#bd3786\"], [0.5555555555555556, \"#d8576b\"], [0.6666666666666666, \"#ed7953\"], [0.7777777777777778, \"#fb9f3a\"], [0.8888888888888888, \"#fdca26\"], [1.0, \"#f0f921\"]], \"type\": \"histogram2dcontour\"}], \"mesh3d\": [{\"colorbar\": {\"outlinewidth\": 0, \"ticks\": \"\"}, \"type\": \"mesh3d\"}], \"parcoords\": [{\"line\": {\"colorbar\": {\"outlinewidth\": 0, \"ticks\": \"\"}}, \"type\": \"parcoords\"}], \"pie\": [{\"automargin\": true, \"type\": \"pie\"}], \"scatter\": [{\"marker\": {\"colorbar\": {\"outlinewidth\": 0, \"ticks\": \"\"}}, \"type\": \"scatter\"}], \"scatter3d\": [{\"line\": {\"colorbar\": {\"outlinewidth\": 0, \"ticks\": \"\"}}, \"marker\": {\"colorbar\": {\"outlinewidth\": 0, \"ticks\": \"\"}}, \"type\": \"scatter3d\"}], \"scattercarpet\": [{\"marker\": {\"colorbar\": {\"outlinewidth\": 0, \"ticks\": \"\"}}, \"type\": \"scattercarpet\"}], \"scattergeo\": [{\"marker\": {\"colorbar\": {\"outlinewidth\": 0, \"ticks\": \"\"}}, \"type\": \"scattergeo\"}], \"scattergl\": [{\"marker\": {\"colorbar\": {\"outlinewidth\": 0, \"ticks\": \"\"}}, \"type\": \"scattergl\"}], \"scattermapbox\": [{\"marker\": {\"colorbar\": {\"outlinewidth\": 0, \"ticks\": \"\"}}, \"type\": \"scattermapbox\"}], \"scatterpolar\": [{\"marker\": {\"colorbar\": {\"outlinewidth\": 0, \"ticks\": \"\"}}, \"type\": \"scatterpolar\"}], \"scatterpolargl\": [{\"marker\": {\"colorbar\": {\"outlinewidth\": 0, \"ticks\": \"\"}}, \"type\": \"scatterpolargl\"}], \"scatterternary\": [{\"marker\": {\"colorbar\": {\"outlinewidth\": 0, \"ticks\": \"\"}}, \"type\": \"scatterternary\"}], \"surface\": [{\"colorbar\": {\"outlinewidth\": 0, \"ticks\": \"\"}, \"colorscale\": [[0.0, \"#0d0887\"], [0.1111111111111111, \"#46039f\"], [0.2222222222222222, \"#7201a8\"], [0.3333333333333333, \"#9c179e\"], [0.4444444444444444, \"#bd3786\"], [0.5555555555555556, \"#d8576b\"], [0.6666666666666666, \"#ed7953\"], [0.7777777777777778, \"#fb9f3a\"], [0.8888888888888888, \"#fdca26\"], [1.0, \"#f0f921\"]], \"type\": \"surface\"}], \"table\": [{\"cells\": {\"fill\": {\"color\": \"#EBF0F8\"}, \"line\": {\"color\": \"white\"}}, \"header\": {\"fill\": {\"color\": \"#C8D4E3\"}, \"line\": {\"color\": \"white\"}}, \"type\": \"table\"}]}, \"layout\": {\"annotationdefaults\": {\"arrowcolor\": \"#2a3f5f\", \"arrowhead\": 0, \"arrowwidth\": 1}, \"coloraxis\": {\"colorbar\": {\"outlinewidth\": 0, \"ticks\": \"\"}}, \"colorscale\": {\"diverging\": [[0, \"#8e0152\"], [0.1, \"#c51b7d\"], [0.2, \"#de77ae\"], [0.3, \"#f1b6da\"], [0.4, \"#fde0ef\"], [0.5, \"#f7f7f7\"], [0.6, \"#e6f5d0\"], [0.7, \"#b8e186\"], [0.8, \"#7fbc41\"], [0.9, \"#4d9221\"], [1, \"#276419\"]], \"sequential\": [[0.0, \"#0d0887\"], [0.1111111111111111, \"#46039f\"], [0.2222222222222222, \"#7201a8\"], [0.3333333333333333, \"#9c179e\"], [0.4444444444444444, \"#bd3786\"], [0.5555555555555556, \"#d8576b\"], [0.6666666666666666, \"#ed7953\"], [0.7777777777777778, \"#fb9f3a\"], [0.8888888888888888, \"#fdca26\"], [1.0, \"#f0f921\"]], \"sequentialminus\": [[0.0, \"#0d0887\"], [0.1111111111111111, \"#46039f\"], [0.2222222222222222, \"#7201a8\"], [0.3333333333333333, \"#9c179e\"], [0.4444444444444444, \"#bd3786\"], [0.5555555555555556, \"#d8576b\"], [0.6666666666666666, \"#ed7953\"], [0.7777777777777778, \"#fb9f3a\"], [0.8888888888888888, \"#fdca26\"], [1.0, \"#f0f921\"]]}, \"colorway\": [\"#636efa\", \"#EF553B\", \"#00cc96\", \"#ab63fa\", \"#FFA15A\", \"#19d3f3\", \"#FF6692\", \"#B6E880\", \"#FF97FF\", \"#FECB52\"], \"font\": {\"color\": \"#2a3f5f\"}, \"geo\": {\"bgcolor\": \"white\", \"lakecolor\": \"white\", \"landcolor\": \"#E5ECF6\", \"showlakes\": true, \"showland\": true, \"subunitcolor\": \"white\"}, \"hoverlabel\": {\"align\": \"left\"}, \"hovermode\": \"closest\", \"mapbox\": {\"style\": \"light\"}, \"paper_bgcolor\": \"white\", \"plot_bgcolor\": \"#E5ECF6\", \"polar\": {\"angularaxis\": {\"gridcolor\": \"white\", \"linecolor\": \"white\", \"ticks\": \"\"}, \"bgcolor\": \"#E5ECF6\", \"radialaxis\": {\"gridcolor\": \"white\", \"linecolor\": \"white\", \"ticks\": \"\"}}, \"scene\": {\"xaxis\": {\"backgroundcolor\": \"#E5ECF6\", \"gridcolor\": \"white\", \"gridwidth\": 2, \"linecolor\": \"white\", \"showbackground\": true, \"ticks\": \"\", \"zerolinecolor\": \"white\"}, \"yaxis\": {\"backgroundcolor\": \"#E5ECF6\", \"gridcolor\": \"white\", \"gridwidth\": 2, \"linecolor\": \"white\", \"showbackground\": true, \"ticks\": \"\", \"zerolinecolor\": \"white\"}, \"zaxis\": {\"backgroundcolor\": \"#E5ECF6\", \"gridcolor\": \"white\", \"gridwidth\": 2, \"linecolor\": \"white\", \"showbackground\": true, \"ticks\": \"\", \"zerolinecolor\": \"white\"}}, \"shapedefaults\": {\"line\": {\"color\": \"#2a3f5f\"}}, \"ternary\": {\"aaxis\": {\"gridcolor\": \"white\", \"linecolor\": \"white\", \"ticks\": \"\"}, \"baxis\": {\"gridcolor\": \"white\", \"linecolor\": \"white\", \"ticks\": \"\"}, \"bgcolor\": \"#E5ECF6\", \"caxis\": {\"gridcolor\": \"white\", \"linecolor\": \"white\", \"ticks\": \"\"}}, \"title\": {\"x\": 0.05}, \"xaxis\": {\"automargin\": true, \"gridcolor\": \"white\", \"linecolor\": \"white\", \"ticks\": \"\", \"title\": {\"standoff\": 15}, \"zerolinecolor\": \"white\", \"zerolinewidth\": 2}, \"yaxis\": {\"automargin\": true, \"gridcolor\": \"white\", \"linecolor\": \"white\", \"ticks\": \"\", \"title\": {\"standoff\": 15}, \"zerolinecolor\": \"white\", \"zerolinewidth\": 2}}}},\n",
       "                        {\"responsive\": true}\n",
       "                    ).then(function(){\n",
       "                            \n",
       "var gd = document.getElementById('d719c458-eda5-4787-840d-d97feb7a1dbe');\n",
       "var x = new MutationObserver(function (mutations, observer) {{\n",
       "        var display = window.getComputedStyle(gd).display;\n",
       "        if (!display || display === 'none') {{\n",
       "            console.log([gd, 'removed!']);\n",
       "            Plotly.purge(gd);\n",
       "            observer.disconnect();\n",
       "        }}\n",
       "}});\n",
       "\n",
       "// Listen for the removal of the full notebook cells\n",
       "var notebookContainer = gd.closest('#notebook-container');\n",
       "if (notebookContainer) {{\n",
       "    x.observe(notebookContainer, {childList: true});\n",
       "}}\n",
       "\n",
       "// Listen for the clearing of the current output cell\n",
       "var outputEl = gd.closest('.output');\n",
       "if (outputEl) {{\n",
       "    x.observe(outputEl, {childList: true});\n",
       "}}\n",
       "\n",
       "                        })\n",
       "                };\n",
       "                });\n",
       "            </script>\n",
       "        </div>"
      ]
     },
     "metadata": {},
     "output_type": "display_data"
    }
   ],
   "source": [
    "# we excluded DC from the analysis.  They had a + 50 Clinton bias and were skewing the map to make it look a lot more Trump favored than it was in reality\n",
    "fig = px.choropleth(locations=[\"AL\", \"AK\", \"AZ\", \"AR\", \"CA\", \"CO\", \"CT\", \"DE\", \"FL\", \"GA\", \"HI\", \"ID\", \"IL\", \"IN\", \"IA\", \"KS\", \"KY\", \"LA\", \"ME\", \"MD\", \"MA\", \"MI\", \"MN\", \"MS\", \"MO\", \"MT\", \"NE\", \"NV\", \"NH\", \"NJ\", \"NM\", \"NY\", \"NC\", \"ND\", \"OH\", \"OK\", \"OR\", \"PA\", \"RI\", \"SC\", \"SD\", \"TN\", \"TX\", \"UT\", \"VT\", \"VA\", \"WA\", \"WV\", \"WI\", \"WY\"], \n",
    "                    locationmode=\"USA-states\", color=[al, ak, az, ar, ca, co, ct, de, fl, ga, hi, ida, il, ind, ia, ks, ky, la, me, md, ma, mi, mn, ms, mo, mt, ne , nv, nh, nj, nm, ny, nc, nd, oh, ok, ore, pa, ri, sc, sd, tn, tx, ut, vt, va, wa, wv, wi, wy], scope=\"usa\", \n",
    "                    color_continuous_scale = px.colors.sequential.Bluered_r)\n",
    "fig.show()"
   ]
  }
 ],
 "metadata": {
  "kernelspec": {
   "display_name": "Python 3",
   "language": "python",
   "name": "python3"
  },
  "language_info": {
   "codemirror_mode": {
    "name": "ipython",
    "version": 3
   },
   "file_extension": ".py",
   "mimetype": "text/x-python",
   "name": "python",
   "nbconvert_exporter": "python",
   "pygments_lexer": "ipython3",
   "version": "3.7.6"
  }
 },
 "nbformat": 4,
 "nbformat_minor": 4
}
